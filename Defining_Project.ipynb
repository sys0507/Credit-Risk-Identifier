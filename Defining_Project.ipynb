{
 "cells": [
  {
   "cell_type": "markdown",
   "metadata": {},
   "source": [
    "**Instructions**\n",
    "1. Make sure your project is related to the business of the companies you are interested in.\n",
    "2. The project should not only be helpful to the employer's business, but also compatible with the existing tools they are using.\n",
    "2. Don’t spend time in generating brand-new ideas. Using mature methods to solve specific problem is more preferred.\n",
    "3. Don’t try to build a perfect project. Start with a Minimum Viable Product. Resources are always limited."
   ]
  },
  {
   "cell_type": "markdown",
   "metadata": {},
   "source": [
    "<font color='red'>**Question:**</font> What is the problem you would like to solve? Why is it important?"
   ]
  },
  {
   "cell_type": "markdown",
   "metadata": {},
   "source": [
    "**Example**: In direct mail marketing, tens of millions of mails are sent to potential customers. Only a very small fraction of the mail receivers respond. Most of mails are thrown into recycle bins directly. If we are able to accurately identify people who will possibly respond. We can save money in direct mail marketing or accquire more customers with given resources."
   ]
  },
  {
   "cell_type": "markdown",
   "metadata": {
    "vscode": {
     "languageId": "raw"
    }
   },
   "source": [
    "The problem is to predict credit risk for loan applications by determining the likelihood of loan default. This is crucial because:\n",
    "\n",
    "1. Financial institutions need to assess credit risk accurately to minimize potential losses\n",
    "2. Poor credit risk assessment can lead to significant financial losses and economic instability\n",
    "3. Better risk assessment can help make lending more accessible to creditworthy borrowers while protecting lenders\n",
    "4. Automated and accurate credit risk assessment can reduce operational costs and processing time\n",
    "\n",
    "By developing an accurate credit risk prediction model, we can help financial institutions make better lending decisions, reduce losses from defaults, and potentially make credit more accessible to qualified borrowers who might be overlooked by traditional methods.\n"
   ]
  },
  {
   "cell_type": "markdown",
   "metadata": {},
   "source": [
    "<font color='red'>**Question:**</font> How to measure the business value of your solution? What is the benchmark?"
   ]
  },
  {
   "cell_type": "markdown",
   "metadata": {
    "vscode": {
     "languageId": "raw"
    }
   },
   "source": [
    "The business value can be measured in several ways:\n",
    "\n",
    "1. **Reduction in Default Rates**\n",
    "   - If current default rate is X%, improving prediction accuracy could reduce it by Y%\n",
    "   - Based on our dataset's current loan intent risk scoring (AUC = 0.469), significant improvement potential exists\n",
    "\n",
    "2. **Cost Savings**\n",
    "   - For every $1M in loans, preventing even 1% of defaults (at average loan amount of $35,000) could save $350,000\n",
    "   - Reduced operational costs through automated risk assessment\n",
    "   - Lower loan loss provisions due to better risk assessment\n",
    "\n",
    "3. **Operational Efficiency**\n",
    "   - Reducing manual review time by automating risk assessment\n",
    "   - Faster loan processing leading to higher throughput\n",
    "   - More consistent risk assessment across applications\n",
    "\n",
    "4. **Improved Customer Experience**\n",
    "   - Faster loan processing\n",
    "   - More accurate risk-based pricing\n",
    "   - Better matching of loan products to customer risk profiles\n",
    "\n",
    "**Benchmarks:**\n",
    "- Current industry average default rates for different loan types (EDUCATION: 10.1%, MEDICAL: 15.2%, etc.)\n",
    "- Traditional credit scoring methods (like FICO scores)\n",
    "- Current model's AUC of 0.469 for loan intent risk scoring\n"
   ]
  },
  {
   "cell_type": "markdown",
   "metadata": {},
   "source": [
    "**Example**: If our goal is saving money in direct mail marketing, the benchmark could be the current situtation in which we send mail to all the people in an area. Let's assume there are a million families in this area, only 0.1% of the people respond, and each mail costs 10 cents. If our model can successfully filter out half of the people who won't respond, we can save 50,000 dollars for each time."
   ]
  },
  {
   "cell_type": "markdown",
   "metadata": {},
   "source": [
    "<font color='red'>**Question:**</font> What are the metrics you will use? Why?"
   ]
  },
  {
   "cell_type": "markdown",
   "metadata": {},
   "source": [
    "**Example**: We can use AUC-ROC for model training. We will use precision and recall to measure our models, keep recall close to 100%, and maximize precision at the same time. If we can't keep recall as 100%, we need to consider the value of each customer and calculate the loss."
   ]
  },
  {
   "cell_type": "markdown",
   "metadata": {
    "vscode": {
     "languageId": "raw"
    }
   },
   "source": [
    "We will use multiple metrics to evaluate our model:\n",
    "\n",
    "1. **Primary Metrics**\n",
    "   - **AUC-ROC**: Best for imbalanced datasets and provides a good overall measure of model discrimination\n",
    "   - **Precision-Recall curve**: Important because false positives (approving bad loans) and false negatives (rejecting good loans) have different business costs\n",
    "   - **F1-Score**: Balanced measure of precision and recall\n",
    "   - **Confusion Matrix**: To understand the types of errors the model makes\n",
    "\n",
    "2. **Secondary Metrics**\n",
    "   - **Kolmogorov-Smirnov (KS) statistic**: Common in credit scoring to measure separation between good and bad loans\n",
    "   - **Gini coefficient**: Industry standard for credit scoring models\n",
    "   - **Expected monetary value**: Incorporating actual costs of false positives/negatives\n",
    "\n",
    "These metrics were chosen because:\n",
    "- They handle imbalanced datasets well (common in credit risk)\n",
    "- They provide different perspectives on model performance\n",
    "- They are industry-standard metrics for credit risk assessment\n",
    "- They help balance the trade-off between identifying defaults and maintaining a healthy approval rate\n"
   ]
  },
  {
   "cell_type": "markdown",
   "metadata": {},
   "source": [
    "<font color='red'>**Question:**</font> What data do you need? How will you get the data?"
   ]
  },
  {
   "cell_type": "markdown",
   "metadata": {},
   "source": [
    "**Example**: Direct mail marketing data is very hard to get. So it is not suitable to be a keystone project. Make sure you are able to get the data you need before you decide to work on a project. Here are some sources to get data:  \n",
    "1. House price data from Zillow, rent price from Craigslist, resteraunt review from Yelp, product review from Amazon, etc.\n",
    "2. Some companies provide APIs like Twitter (https://developer.twitter.com/en/docs)\n",
    "3. Quite some datasets are available on Kaggle (https://www.kaggle.com/datasets)"
   ]
  },
  {
   "cell_type": "markdown",
   "metadata": {},
   "source": [
    "\n",
    "We already have the primary dataset from Kaggle (credit-risk-dataset) which includes:\n",
    "\n",
    "1. **Core Features**\n",
    "   - Personal information: age, income, home ownership, employment length\n",
    "   - Loan details: intent, grade, amount, interest rate\n",
    "   - Credit history: default history, credit history length\n",
    "   - Target variable: loan_status (default/non-default)\n",
    "\n",
    "2. **Enhanced Features** (through our web crawler)\n",
    "   - Market-based loan intent risk scores\n",
    "   - Home ownership risk scores\n",
    "   - Combined risk scores\n",
    "\n",
    "3. **Additional Data We Could Gather**\n",
    "   - Economic indicators (unemployment rates, GDP growth)\n",
    "   - Industry-specific default rates\n",
    "   - Property values for secured loans\n",
    "   - Market interest rates and trends\n",
    "\n",
    "The data quality is good with:\n",
    "- Sufficient sample size\n",
    "- Relevant features for credit risk assessment\n",
    "- Real-world loan performance data\n",
    "- Enhanced features from market data"
   ]
  },
  {
   "cell_type": "markdown",
   "metadata": {},
   "source": [
    "<font color='red'>**Question:**</font> What algorithms will you choose for this project? Why?"
   ]
  },
  {
   "cell_type": "markdown",
   "metadata": {},
   "source": [
    "**Example**: We will use Random Forest as a benchmark algorithm, because it is very stable and able to handle nonlinear relationship between features and target. But eventually, we will use Logistic Regression with created features, because we need to keep the model interpretable to communicate with the marketing team."
   ]
  },
  {
   "cell_type": "markdown",
   "metadata": {},
   "source": [
    "We'll use a multi-stage approach with multiple algorithms:\n",
    "\n",
    "1. **Baseline Models**\n",
    "   - **Logistic Regression**: \n",
    "     - Interpretable, standard in credit industry\n",
    "     - Good for understanding feature importance\n",
    "     - Required for regulatory compliance\n",
    "   \n",
    "   - **Random Forest**: \n",
    "     - Handles non-linear relationships\n",
    "     - Good with mixed data types\n",
    "     - Built-in feature importance\n",
    "\n",
    "2. **Advanced Models**\n",
    "   - **XGBoost**: \n",
    "     - Usually provides best performance for structured data\n",
    "     - Handles missing values well\n",
    "     - Good with imbalanced datasets\n",
    "   \n",
    "   - **LightGBM**: \n",
    "     - Efficient with large datasets\n",
    "     - Good with categorical features\n",
    "     - Fast training and prediction\n",
    "\n",
    "3. **Ensemble Methods**\n",
    "   - Stacking: Combine predictions from multiple models\n",
    "   - Weighted averaging: Based on model performance on different segments\n",
    "\n",
    "The final choice will balance:\n",
    "- Model performance (AUC, precision, recall)\n",
    "- Interpretability (required for regulatory compliance)\n",
    "- Computational efficiency\n",
    "- Ease of deployment and maintenance\n"
   ]
  },
  {
   "cell_type": "markdown",
   "metadata": {},
   "source": [
    "<font color='red'>**Question:**</font> What will be the input and output?"
   ]
  },
  {
   "cell_type": "markdown",
   "metadata": {},
   "source": [
    "**Example**: The input would be the information of people (if available) such as zipcode, household income, age, etc. The output will be 1 (will respond) or 0 (won't respond)."
   ]
  },
  {
   "cell_type": "markdown",
   "metadata": {},
   "source": [
    "**Inputs:**\n",
    "1. Personal Information\n",
    "   - Age\n",
    "   - Income\n",
    "   - Employment length\n",
    "   - Home ownership status\n",
    "\n",
    "2. Loan Details\n",
    "   - Amount\n",
    "   - Intent\n",
    "   - Grade\n",
    "   - Interest rate\n",
    "   - Percent of income\n",
    "\n",
    "3. Credit History\n",
    "   - Default history\n",
    "   - Credit history length\n",
    "\n",
    "4. Enhanced Features\n",
    "   - Loan intent risk score\n",
    "   - Home ownership risk score\n",
    "   - Combined risk score\n",
    "\n",
    "**Outputs:**\n",
    "1. Primary Output\n",
    "   - Binary classification (1 = default, 0 = non-default)\n",
    "\n",
    "2. Secondary Outputs\n",
    "   - Probability of default (0-1 score)\n",
    "   - Risk tier assignment (Low, Medium, High risk)\n",
    "   - Recommended interest rate range\n",
    "   - Confidence score for the prediction"
   ]
  },
  {
   "cell_type": "code",
   "execution_count": 1,
   "metadata": {},
   "outputs": [
    {
     "name": "stdout",
     "output_type": "stream",
     "text": [
      "Dataset files have been downloaded to: c:\\Users\\leemi\\Techlent ML camp\\Group_project\\credit-risk-dataset\n"
     ]
    }
   ],
   "source": [
    "import kagglehub\n",
    "import os\n",
    "import shutil\n",
    "\n",
    "# Download latest version\n",
    "path = kagglehub.dataset_download(\"laotse/credit-risk-dataset\")\n",
    "\n",
    "# Create a local directory for the dataset if it doesn't exist\n",
    "local_dir = \"credit-risk-dataset\"\n",
    "if not os.path.exists(local_dir):\n",
    "    os.makedirs(local_dir)\n",
    "\n",
    "# Copy all files from the downloaded path to our local directory\n",
    "for file in os.listdir(path):\n",
    "    src_file = os.path.join(path, file)\n",
    "    dst_file = os.path.join(local_dir, file)\n",
    "    shutil.copy2(src_file, dst_file)\n",
    "\n",
    "print(\"Dataset files have been downloaded to:\", os.path.abspath(local_dir))"
   ]
  },
  {
   "cell_type": "code",
   "execution_count": 2,
   "metadata": {},
   "outputs": [],
   "source": [
    "import pandas as pd\n",
    "df = pd.read_csv('C:/Users/leemi/Techlent ML camp/Group_project/credit-risk-dataset/credit_risk_dataset.csv')"
   ]
  },
  {
   "cell_type": "code",
   "execution_count": 3,
   "metadata": {},
   "outputs": [
    {
     "data": {
      "text/html": [
       "<div>\n",
       "<style scoped>\n",
       "    .dataframe tbody tr th:only-of-type {\n",
       "        vertical-align: middle;\n",
       "    }\n",
       "\n",
       "    .dataframe tbody tr th {\n",
       "        vertical-align: top;\n",
       "    }\n",
       "\n",
       "    .dataframe thead th {\n",
       "        text-align: right;\n",
       "    }\n",
       "</style>\n",
       "<table border=\"1\" class=\"dataframe\">\n",
       "  <thead>\n",
       "    <tr style=\"text-align: right;\">\n",
       "      <th></th>\n",
       "      <th>person_age</th>\n",
       "      <th>person_income</th>\n",
       "      <th>person_home_ownership</th>\n",
       "      <th>person_emp_length</th>\n",
       "      <th>loan_intent</th>\n",
       "      <th>loan_grade</th>\n",
       "      <th>loan_amnt</th>\n",
       "      <th>loan_int_rate</th>\n",
       "      <th>loan_status</th>\n",
       "      <th>loan_percent_income</th>\n",
       "      <th>cb_person_default_on_file</th>\n",
       "      <th>cb_person_cred_hist_length</th>\n",
       "    </tr>\n",
       "  </thead>\n",
       "  <tbody>\n",
       "    <tr>\n",
       "      <th>0</th>\n",
       "      <td>22</td>\n",
       "      <td>59000</td>\n",
       "      <td>RENT</td>\n",
       "      <td>123.0</td>\n",
       "      <td>PERSONAL</td>\n",
       "      <td>D</td>\n",
       "      <td>35000</td>\n",
       "      <td>16.02</td>\n",
       "      <td>1</td>\n",
       "      <td>0.59</td>\n",
       "      <td>Y</td>\n",
       "      <td>3</td>\n",
       "    </tr>\n",
       "    <tr>\n",
       "      <th>1</th>\n",
       "      <td>21</td>\n",
       "      <td>9600</td>\n",
       "      <td>OWN</td>\n",
       "      <td>5.0</td>\n",
       "      <td>EDUCATION</td>\n",
       "      <td>B</td>\n",
       "      <td>1000</td>\n",
       "      <td>11.14</td>\n",
       "      <td>0</td>\n",
       "      <td>0.10</td>\n",
       "      <td>N</td>\n",
       "      <td>2</td>\n",
       "    </tr>\n",
       "    <tr>\n",
       "      <th>2</th>\n",
       "      <td>25</td>\n",
       "      <td>9600</td>\n",
       "      <td>MORTGAGE</td>\n",
       "      <td>1.0</td>\n",
       "      <td>MEDICAL</td>\n",
       "      <td>C</td>\n",
       "      <td>5500</td>\n",
       "      <td>12.87</td>\n",
       "      <td>1</td>\n",
       "      <td>0.57</td>\n",
       "      <td>N</td>\n",
       "      <td>3</td>\n",
       "    </tr>\n",
       "    <tr>\n",
       "      <th>3</th>\n",
       "      <td>23</td>\n",
       "      <td>65500</td>\n",
       "      <td>RENT</td>\n",
       "      <td>4.0</td>\n",
       "      <td>MEDICAL</td>\n",
       "      <td>C</td>\n",
       "      <td>35000</td>\n",
       "      <td>15.23</td>\n",
       "      <td>1</td>\n",
       "      <td>0.53</td>\n",
       "      <td>N</td>\n",
       "      <td>2</td>\n",
       "    </tr>\n",
       "    <tr>\n",
       "      <th>4</th>\n",
       "      <td>24</td>\n",
       "      <td>54400</td>\n",
       "      <td>RENT</td>\n",
       "      <td>8.0</td>\n",
       "      <td>MEDICAL</td>\n",
       "      <td>C</td>\n",
       "      <td>35000</td>\n",
       "      <td>14.27</td>\n",
       "      <td>1</td>\n",
       "      <td>0.55</td>\n",
       "      <td>Y</td>\n",
       "      <td>4</td>\n",
       "    </tr>\n",
       "  </tbody>\n",
       "</table>\n",
       "</div>"
      ],
      "text/plain": [
       "   person_age  person_income person_home_ownership  person_emp_length  \\\n",
       "0          22          59000                  RENT              123.0   \n",
       "1          21           9600                   OWN                5.0   \n",
       "2          25           9600              MORTGAGE                1.0   \n",
       "3          23          65500                  RENT                4.0   \n",
       "4          24          54400                  RENT                8.0   \n",
       "\n",
       "  loan_intent loan_grade  loan_amnt  loan_int_rate  loan_status  \\\n",
       "0    PERSONAL          D      35000          16.02            1   \n",
       "1   EDUCATION          B       1000          11.14            0   \n",
       "2     MEDICAL          C       5500          12.87            1   \n",
       "3     MEDICAL          C      35000          15.23            1   \n",
       "4     MEDICAL          C      35000          14.27            1   \n",
       "\n",
       "   loan_percent_income cb_person_default_on_file  cb_person_cred_hist_length  \n",
       "0                 0.59                         Y                           3  \n",
       "1                 0.10                         N                           2  \n",
       "2                 0.57                         N                           3  \n",
       "3                 0.53                         N                           2  \n",
       "4                 0.55                         Y                           4  "
      ]
     },
     "execution_count": 3,
     "metadata": {},
     "output_type": "execute_result"
    }
   ],
   "source": [
    "df.head()"
   ]
  },
  {
   "cell_type": "code",
   "execution_count": 5,
   "metadata": {},
   "outputs": [
    {
     "data": {
      "text/html": [
       "<div>\n",
       "<style scoped>\n",
       "    .dataframe tbody tr th:only-of-type {\n",
       "        vertical-align: middle;\n",
       "    }\n",
       "\n",
       "    .dataframe tbody tr th {\n",
       "        vertical-align: top;\n",
       "    }\n",
       "\n",
       "    .dataframe thead th {\n",
       "        text-align: right;\n",
       "    }\n",
       "</style>\n",
       "<table border=\"1\" class=\"dataframe\">\n",
       "  <thead>\n",
       "    <tr style=\"text-align: right;\">\n",
       "      <th></th>\n",
       "      <th>person_age</th>\n",
       "      <th>person_income</th>\n",
       "      <th>person_home_ownership</th>\n",
       "      <th>person_emp_length</th>\n",
       "      <th>loan_intent</th>\n",
       "      <th>loan_grade</th>\n",
       "      <th>loan_amnt</th>\n",
       "      <th>loan_int_rate</th>\n",
       "      <th>loan_status</th>\n",
       "      <th>loan_percent_income</th>\n",
       "      <th>cb_person_default_on_file</th>\n",
       "      <th>cb_person_cred_hist_length</th>\n",
       "      <th>loan_intent_risk_score</th>\n",
       "      <th>home_ownership_risk_score</th>\n",
       "      <th>combined_risk_score</th>\n",
       "    </tr>\n",
       "  </thead>\n",
       "  <tbody>\n",
       "    <tr>\n",
       "      <th>0</th>\n",
       "      <td>22</td>\n",
       "      <td>59000</td>\n",
       "      <td>RENT</td>\n",
       "      <td>123.0</td>\n",
       "      <td>PERSONAL</td>\n",
       "      <td>D</td>\n",
       "      <td>35000</td>\n",
       "      <td>16.02</td>\n",
       "      <td>1</td>\n",
       "      <td>0.59</td>\n",
       "      <td>Y</td>\n",
       "      <td>3</td>\n",
       "      <td>0.259802</td>\n",
       "      <td>0.44</td>\n",
       "      <td>0.331881</td>\n",
       "    </tr>\n",
       "    <tr>\n",
       "      <th>1</th>\n",
       "      <td>21</td>\n",
       "      <td>9600</td>\n",
       "      <td>OWN</td>\n",
       "      <td>5.0</td>\n",
       "      <td>EDUCATION</td>\n",
       "      <td>B</td>\n",
       "      <td>1000</td>\n",
       "      <td>11.14</td>\n",
       "      <td>0</td>\n",
       "      <td>0.10</td>\n",
       "      <td>N</td>\n",
       "      <td>2</td>\n",
       "      <td>0.387553</td>\n",
       "      <td>0.17</td>\n",
       "      <td>0.300532</td>\n",
       "    </tr>\n",
       "    <tr>\n",
       "      <th>2</th>\n",
       "      <td>25</td>\n",
       "      <td>9600</td>\n",
       "      <td>MORTGAGE</td>\n",
       "      <td>1.0</td>\n",
       "      <td>MEDICAL</td>\n",
       "      <td>C</td>\n",
       "      <td>5500</td>\n",
       "      <td>12.87</td>\n",
       "      <td>1</td>\n",
       "      <td>0.57</td>\n",
       "      <td>N</td>\n",
       "      <td>3</td>\n",
       "      <td>0.432200</td>\n",
       "      <td>0.29</td>\n",
       "      <td>0.375320</td>\n",
       "    </tr>\n",
       "    <tr>\n",
       "      <th>3</th>\n",
       "      <td>23</td>\n",
       "      <td>65500</td>\n",
       "      <td>RENT</td>\n",
       "      <td>4.0</td>\n",
       "      <td>MEDICAL</td>\n",
       "      <td>C</td>\n",
       "      <td>35000</td>\n",
       "      <td>15.23</td>\n",
       "      <td>1</td>\n",
       "      <td>0.53</td>\n",
       "      <td>N</td>\n",
       "      <td>2</td>\n",
       "      <td>0.432200</td>\n",
       "      <td>0.44</td>\n",
       "      <td>0.435320</td>\n",
       "    </tr>\n",
       "    <tr>\n",
       "      <th>4</th>\n",
       "      <td>24</td>\n",
       "      <td>54400</td>\n",
       "      <td>RENT</td>\n",
       "      <td>8.0</td>\n",
       "      <td>MEDICAL</td>\n",
       "      <td>C</td>\n",
       "      <td>35000</td>\n",
       "      <td>14.27</td>\n",
       "      <td>1</td>\n",
       "      <td>0.55</td>\n",
       "      <td>Y</td>\n",
       "      <td>4</td>\n",
       "      <td>0.432200</td>\n",
       "      <td>0.44</td>\n",
       "      <td>0.435320</td>\n",
       "    </tr>\n",
       "  </tbody>\n",
       "</table>\n",
       "</div>"
      ],
      "text/plain": [
       "   person_age  person_income person_home_ownership  person_emp_length  \\\n",
       "0          22          59000                  RENT              123.0   \n",
       "1          21           9600                   OWN                5.0   \n",
       "2          25           9600              MORTGAGE                1.0   \n",
       "3          23          65500                  RENT                4.0   \n",
       "4          24          54400                  RENT                8.0   \n",
       "\n",
       "  loan_intent loan_grade  loan_amnt  loan_int_rate  loan_status  \\\n",
       "0    PERSONAL          D      35000          16.02            1   \n",
       "1   EDUCATION          B       1000          11.14            0   \n",
       "2     MEDICAL          C       5500          12.87            1   \n",
       "3     MEDICAL          C      35000          15.23            1   \n",
       "4     MEDICAL          C      35000          14.27            1   \n",
       "\n",
       "   loan_percent_income cb_person_default_on_file  cb_person_cred_hist_length  \\\n",
       "0                 0.59                         Y                           3   \n",
       "1                 0.10                         N                           2   \n",
       "2                 0.57                         N                           3   \n",
       "3                 0.53                         N                           2   \n",
       "4                 0.55                         Y                           4   \n",
       "\n",
       "   loan_intent_risk_score  home_ownership_risk_score  combined_risk_score  \n",
       "0                0.259802                       0.44             0.331881  \n",
       "1                0.387553                       0.17             0.300532  \n",
       "2                0.432200                       0.29             0.375320  \n",
       "3                0.432200                       0.44             0.435320  \n",
       "4                0.432200                       0.44             0.435320  "
      ]
     },
     "execution_count": 5,
     "metadata": {},
     "output_type": "execute_result"
    }
   ],
   "source": [
    "df = pd.read_csv('C:/Users/leemi/Techlent ML camp/Group_project/credit-risk-dataset/enhanced_credit_risk_dataset.csv')\n",
    "df.head()"
   ]
  }
 ],
 "metadata": {
  "kernelspec": {
   "display_name": "base",
   "language": "python",
   "name": "python3"
  },
  "language_info": {
   "codemirror_mode": {
    "name": "ipython",
    "version": 3
   },
   "file_extension": ".py",
   "mimetype": "text/x-python",
   "name": "python",
   "nbconvert_exporter": "python",
   "pygments_lexer": "ipython3",
   "version": "3.11.5"
  }
 },
 "nbformat": 4,
 "nbformat_minor": 2
}
